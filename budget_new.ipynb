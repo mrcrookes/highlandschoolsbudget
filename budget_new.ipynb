{
 "cells": [
  {
   "cell_type": "markdown",
   "id": "7ce3efcf",
   "metadata": {},
   "source": [
    "## Import libraries and define functions"
   ]
  },
  {
   "cell_type": "code",
   "execution_count": null,
   "id": "d39da04f",
   "metadata": {},
   "outputs": [],
   "source": [
    "import pandas as pd\n",
    "import numpy as np"
   ]
  },
  {
   "cell_type": "code",
   "execution_count": null,
   "id": "6542cb9b",
   "metadata": {},
   "outputs": [],
   "source": [
    "def tidy(df):\n",
    "    \n",
    "    #### Fix usual issues with all strings\n",
    "    \n",
    "    # Capitalise headers\n",
    "    df.columns = df.columns.astype(str).str.upper()\n",
    "    \n",
    "    # Capitalise columns\n",
    "    df = df.map(lambda x: x.upper() if type(x) is str else x)\n",
    "\n",
    "    # Strip whitespace\n",
    "    df = df.map(lambda x: x.strip() if type(x) is str else x)\n",
    "\n",
    "    # Remove parenthesis\n",
    "    df = df.map(lambda x: x.replace('(', '') if type(x) is str else x)\n",
    "    df = df.map(lambda x: x.replace(')', '') if type(x) is str else x)\n",
    "    \n",
    "    # Remove dashes\n",
    "    df = df.map(lambda x: x.replace('-', '') if type(x) is str else x)\n",
    "    \n",
    "    # Remove full stops\n",
    "    df = df.map(lambda x: x.replace('.', '') if type(x) is str else x)\n",
    "    \n",
    "    # Remove commas\n",
    "    df = df.map(lambda x: x.replace(',', '') if type(x) is str else x)\n",
    "    \n",
    "    # Remove linebreaks\n",
    "    df = df.map(lambda x: x.replace('\\n', '') if type(x) is str else x)\n",
    "\n",
    "    # Replace annoying substrings\n",
    "    df = df.map(lambda x: x.replace(' AND ', ' & ') if type(x) is str else x)\n",
    "    df = df.map(lambda x: x.replace(' – ', ' - ') if type(x) is str else x)\n",
    "    df = df.map(lambda x: x.replace(' / ', '/') if type(x) is str else x)\n",
    "    df = df.map(lambda x: x.replace('/ ', '/') if type(x) is str else x)\n",
    "    df = df.map(lambda x: x.replace(' /', '/') if type(x) is str else x)\n",
    "    \n",
    "    # Strip whitespace again\n",
    "    df = df.map(lambda x: x.strip() if type(x) is str else x)\n",
    "    \n",
    "    # Remove double spaces\n",
    "    df = df.map(lambda x: x.replace('  ', ' ') if type(x) is str else x)\n",
    "    \n",
    "    # Drop rows with minimum number of 2 non-null values\n",
    "    df = df.dropna(thresh=2)\n",
    "    \n",
    "    return df"
   ]
  },
  {
   "cell_type": "markdown",
   "id": "3470a82e",
   "metadata": {},
   "source": [
    "## Read in Mallaig data"
   ]
  },
  {
   "cell_type": "code",
   "execution_count": null,
   "id": "813f9d85",
   "metadata": {},
   "outputs": [],
   "source": [
    "# # Add in Mallaig High School data from previous FIO request\n",
    "# dfm = pd.read_excel('./data/FS560267659 budget and spend data.xlsx', \n",
    "#                                 sheet_name='10416')\n",
    "    \n",
    "# dfm = tidy(dfm)\n",
    "    \n",
    "# # Add SCHOOL and DEPT column\n",
    "# dfm['SCHOOL'] = 'MALLAIG HIGH SCHOOL'\n",
    "# dfm['DEPT'] = 'XX'\n",
    "# dfm['CATEGORY'] = 'XX'\n",
    "\n",
    "# # Rename Desciption column\n",
    "# dfm = dfm.rename(columns={'DESCR': 'DESCRIPTION'})\n",
    "\n",
    "# # Update a few names\n",
    "# dfm = dfm.map(lambda x: x.replace('TEACHERS SUPPLY', 'SUPPLY') if type(x) is str else x)\n",
    "# dfm = dfm.map(lambda x: x.replace('TEACHER SUPPLY', 'SUPPLY') if type(x) is str else x)\n",
    "\n",
    "# # Remove School name from desciption column\n",
    "# ls = ['MALLAIG HIGH SCHOOL', 'MALLAIG SECONDARY SCHOOL', 'MALLAIG SECONDARY',\n",
    "#         'MALLAIG SEC SCHOOL', 'MALLAIG SEC', ' PS ', \n",
    "#         'MALLAIG', 'LADY LOVAT', 'ARISAIG', 'INVERIE']\n",
    "\n",
    "# for l in ls:\n",
    "#     dfm['DESCRIPTION'] = dfm['DESCRIPTION'].str.replace(l, '')\n",
    "\n",
    "# # Join together some awkward categories\n",
    "# dfm['DESCRIPTION'] = dfm['DESCRIPTION'].str.replace('LRN SUP', 'LRNSUP')\n",
    "# dfm['DESCRIPTION'] = dfm['DESCRIPTION'].str.replace('MOD LANG', 'MODLANG')\n",
    "# dfm['DESCRIPTION'] = dfm['DESCRIPTION'].str.replace('MOD STD', 'MODSTD')\n",
    "# dfm['DESCRIPTION'] = dfm['DESCRIPTION'].str.replace('MUSIC & DRAMA', 'MUSIC&DRAMA')\n",
    "# dfm['DESCRIPTION'] = dfm['DESCRIPTION'].str.replace('FIRST AID', 'FIRSTAID')\n",
    "# dfm['DESCRIPTION'] = dfm['DESCRIPTION'].str.replace('FOOD FOR THOUGHT', 'FOODFORTHOUGHT')\n",
    "# dfm['DESCRIPTION'] = dfm['DESCRIPTION'].str.replace('ADD FUNDS', 'ADDFUNDS')\n",
    "\n",
    "# # Drop rows with non-null values\n",
    "# dfm = dfm.dropna()\n",
    "\n",
    "# # Strip whitespace\n",
    "# dfm = dfm.map(lambda x: x.strip() if type(x) is str else x)\n",
    "\n",
    "# # Set Category column to first name of DESCRIPTION  column\n",
    "# dfm['SCHOOL CODE'] = dfm['DESCRIPTION'].str.split(n=1).str[0]\n",
    "\n",
    "# # Remove first word from DESCRIPTION column\n",
    "# dfm['DESCRIPTION'] = dfm['DESCRIPTION'].str.split(n=1).str[1]\n",
    "\n",
    "# # Create list of values\n",
    "# val = ['2324 ACTUALS', '2223 ACTUALS', '2122 ACTUALS', '2021 ACTUALS',\n",
    "#        '1920 ACTUALS', '1819 ACTUALS', '1718 ACTUALS', '1617 ACTUALS', '1516 ACTUALS']\n",
    "\n",
    "# # Convert into long format\n",
    "# ldfm = pd.melt(dfm, id_vars=['EXP HEAD', 'DESCRIPTION', 'SCHOOL', 'SCHOOL CODE',\n",
    "#                                  'CATEGORY', 'DEPT'], value_vars=val,\n",
    "#              var_name='VARIABLE', value_name='VALUE')\n",
    "\n",
    "# # Split variable column into year and type\n",
    "# ldfm[['YEAR', 'TYPE']] = ldfm['VARIABLE'].str.split(' ', n=1, expand=True)\n",
    "\n",
    "# # Drop old variable column\n",
    "# ldfm = ldfm.drop('VARIABLE', axis=1)\n",
    "\n",
    "# # Drop values equal to 0\n",
    "# ldfm = ldfm[ldfm['VALUE'] != 0]\n",
    "\n",
    "# # Reorder columns\n",
    "# ldfm = ldfm[['EXP HEAD', 'DEPT', 'SCHOOL', 'CATEGORY', 'SCHOOL CODE', 'DESCRIPTION', 'YEAR', 'VALUE']]"
   ]
  },
  {
   "cell_type": "markdown",
   "id": "29e4989b",
   "metadata": {},
   "source": [
    "## Read in main data"
   ]
  },
  {
   "cell_type": "code",
   "execution_count": null,
   "id": "5ff0b8c0",
   "metadata": {},
   "outputs": [],
   "source": [
    "## Read in main source file\n",
    "\n",
    "df = pd.read_excel('./data/FOI FS-Case-625356341 - School spend.xlsx',\n",
    "                       sheet_name='Monitoring Reports',\n",
    "                          skiprows = 7)"
   ]
  },
  {
   "cell_type": "code",
   "execution_count": null,
   "id": "a39eab20",
   "metadata": {},
   "outputs": [],
   "source": [
    "# Copy df\n",
    "fdf = df.copy()\n",
    "\n",
    "# Tidy df\n",
    "fdf = tidy(fdf)"
   ]
  },
  {
   "cell_type": "code",
   "execution_count": null,
   "id": "76da2739",
   "metadata": {},
   "outputs": [],
   "source": [
    "# Rename Desciption column\n",
    "fdf = fdf.rename(columns={'CC DESCRIPTION': 'SCHOOL CODE'})\n",
    "fdf = fdf.rename(columns={'CC NAME': 'SCHOOL'})\n",
    "fdf = fdf.rename(columns={'EH DESCRIPTION': 'DESCRIPTION'})\n",
    "\n",
    "# Update a few names\n",
    "fdf = fdf.map(lambda x: x.replace('TEACHERS SUPPLY', 'SUPPLY') if type(x) is str else x)\n",
    "fdf = fdf.map(lambda x: x.replace('TEACHER SUPPLY', 'SUPPLY') if type(x) is str else x)\n",
    "\n",
    "# Join together some awkward categories\n",
    "fdf['DESCRIPTION'] = fdf['DESCRIPTION'].str.replace('LRN SUP', 'LRNSUP')\n",
    "fdf['DESCRIPTION'] = fdf['DESCRIPTION'].str.replace('MOD LANG', 'MODLANG')\n",
    "fdf['DESCRIPTION'] = fdf['DESCRIPTION'].str.replace('MOD STD', 'MODSTD')\n",
    "fdf['DESCRIPTION'] = fdf['DESCRIPTION'].str.replace('MUSIC & DRAMA', 'MUSIC&DRAMA')\n",
    "fdf['DESCRIPTION'] = fdf['DESCRIPTION'].str.replace('FIRST AID', 'FIRSTAID')\n",
    "fdf['DESCRIPTION'] = fdf['DESCRIPTION'].str.replace('FOOD FOR THOUGHT', 'FOODFORTHOUGHT')\n",
    "fdf['DESCRIPTION'] = fdf['DESCRIPTION'].str.replace('ADD FUNDS', 'ADDFUNDS')\n",
    "fdf['DESCRIPTION'] = fdf['DESCRIPTION'].str.replace('ART & CRAFT', 'ART&CRAFT')\n",
    "fdf['DESCRIPTION'] = fdf['DESCRIPTION'].str.replace('MEALS & HOSPITALITY', 'MEALS&HOSPITALITY')\n",
    "fdf['DESCRIPTION'] = fdf['DESCRIPTION'].str.replace('RPRS & MAINT', 'RPRS&MAINT')\n",
    "fdf['DESCRIPTION'] = fdf['DESCRIPTION'].str.replace('CONFERENCE & SEMINAR', 'CONFERENCE&SEMINAR')\n",
    "fdf['DESCRIPTION'] = fdf['DESCRIPTION'].str.replace('P E ', 'PE ')\n",
    "\n",
    "# Drop rows with non-null values\n",
    "fdf = fdf.dropna()\n",
    "\n",
    "# Strip whitespace\n",
    "fdf = fdf.map(lambda x: x.strip() if type(x) is str else x)\n",
    "\n",
    "# # Set Category column to first name of DESCRIPTIONiption column\n",
    "# fdf['CATEGORY'] = fdf['DESCRIPTION'].str.split(n=1).str[0]\n",
    "\n",
    "# # Remove first word from DESCRIPTIONiption column\n",
    "# fdf['DESCRIPTION'] = fdf['DESCRIPTION'].str.split(n=1).str[1]\n",
    "\n",
    "fdf.head()"
   ]
  },
  {
   "cell_type": "code",
   "execution_count": null,
   "id": "ff69041e",
   "metadata": {},
   "outputs": [],
   "source": [
    "# Remove School name from school code column\n",
    "ls1 = fdf['SCHOOL'].unique()\n",
    "\n",
    "for l in ls1:\n",
    "    fdf['SCHOOL CODE'] = fdf['SCHOOL CODE'].str.replace(l, '')\n",
    "    \n",
    "# Remove shortened School name from school code column\n",
    "ls2 = ['CHARLESTON AC', 'CULLODEN ACAD',\n",
    "       'GLEN URQUHART HIGH', 'GLEN URQUHART HS', 'GLEN URQUHART HS', 'GLEN URQUHART','INVERNESS HIGH',\n",
    "       'INVERNESS ROYAL AC', 'INVNESS ROYAL AC', 'INVERNESS ROYAL', 'KILCHUIMEN AC',\n",
    "       'MILLBURN ACAD', 'MILBURN ACADEMY', 'MILLBURN', 'MILBURN',\n",
    "       'KINLOCHLEVEN HIGH', 'KINLOCHLEVEN HS',\n",
    "       'LOCHABER HIGH', 'ALNESS ACADEMY', 'DINGWALL ACAD',\n",
    "       'FORTROSE ACAD', 'GAIRLOCH HIGH', 'INVERGORDON ACAD', 'INVERGORDON AC',\n",
    "       'TAIN ROYAL ACAD', 'ULLAPOOL HIGH', 'DORNOCH ACAD', 'DORNOCH AC',\n",
    "       'FARR SECONDARY', 'FARR SEC SCHOOL', 'FARR HIGH SCHOOL', 'GOLSPIE',\n",
    "       'KINLOCHBERVIE HIGH', 'KINLOCHBERVIE HS', 'KINLOCHLEVEN H', 'KINLCHBERVIE', \"K'BERVIE\", 'KLB HIGH',\n",
    "       'THURSO', 'WICK', 'PORTREE HIGH', 'PORTREE', 'PLOCKTON HIGH',\n",
    "       'GRANTOWN GRAMMR', 'GRANTOWN GRAMM', 'GRANTOWN', 'KINGUSSIE HIGH', 'KINGUSSIE HS',\n",
    "       'NAIRN ACAD', 'ARDNAMURCHAN SEC', 'ARDNAMURCHAN SS', 'ARDNAMURCHAN HIGH']\n",
    "\n",
    "for l in ls2:\n",
    "    fdf['SCHOOL CODE'] = fdf['SCHOOL CODE'].str.replace(l, '')\n",
    "    \n",
    "# Remove loose ends from school code column\n",
    "ls3 = ['HIGH SCHOOL', 'HS ', 'INVERNESS', 'AR ', 'AD ']\n",
    "\n",
    "for l in ls3:\n",
    "    fdf['SCHOOL CODE'] = fdf['SCHOOL CODE'].str.replace(l, '')\n",
    "     \n",
    "# Tidy up again (mainly to remove whitespaces)\n",
    "fdf = tidy(fdf)\n",
    "\n",
    "# Correct typos (something using regex to select full string only)\n",
    "fdf['SCHOOL CODE'] = fdf['SCHOOL CODE'].str.replace(r'^GOV INITIATIVE$', 'GOV INITIATIVES', regex=True)\n",
    "fdf['SCHOOL CODE'] = fdf['SCHOOL CODE'].str.replace(r'^GOV INTIVE$', 'GOV INITIATIVES', regex=True)\n",
    "\n",
    "fdf['SCHOOL CODE'] = fdf['SCHOOL CODE'].str.replace(r'^INNO FUND$', 'INNOVATION FUNDING', regex=True)\n",
    "fdf['SCHOOL CODE'] = fdf['SCHOOL CODE'].str.replace(r'^INNO FUNDING$', 'INNOVATION FUNDING', regex=True)\n",
    "fdf['SCHOOL CODE'] = fdf['SCHOOL CODE'].str.replace(r'^INNOVATION FUND$', 'INNOVATION FUNDING', regex=True)\n",
    "\n",
    "fdf['SCHOOL CODE'] = fdf['SCHOOL CODE'].str.replace('ASG STEM FUNDING', 'STEM FUNDING')\n",
    "fdf['SCHOOL CODE'] = fdf['SCHOOL CODE'].str.replace('TRA STEM FUNDING', 'STEM FUNDING')\n",
    "\n",
    "fdf['SCHOOL CODE'] = fdf['SCHOOL CODE'].str.replace(r'^ACCESS TO EDU$', 'ACCESS TO EDUC', regex=True)"
   ]
  },
  {
   "cell_type": "code",
   "execution_count": null,
   "id": "bf5c1890",
   "metadata": {},
   "outputs": [],
   "source": [
    "fdf.head()"
   ]
  },
  {
   "cell_type": "markdown",
   "id": "172dfa30",
   "metadata": {},
   "source": [
    "## Convert main data into long format"
   ]
  },
  {
   "cell_type": "code",
   "execution_count": null,
   "id": "d156d859",
   "metadata": {},
   "outputs": [],
   "source": [
    "# Convert into long format\n",
    "# ldf = pd.melt(fdf, id_vars=['EXP HEAD', 'DEPT', 'DESCRIPTION', 'SCHOOL', 'YEAR', 'CATEGORY', 'SCHOOL CODE'],\n",
    "#             value_vars='ACTUALS YTD',\n",
    "#                 var_name='VARIABLE', value_name='VALUE')\n",
    "ldf = pd.melt(fdf, id_vars=['EXP HEAD', 'DEPT', 'DESCRIPTION', 'SCHOOL', 'YEAR', 'SCHOOL CODE'],\n",
    "            value_vars='ACTUALS YTD',\n",
    "                var_name='VARIABLE', value_name='VALUE')\n",
    "\n",
    "# Drop old variable column\n",
    "ldf = ldf.drop('VARIABLE', axis=1)\n",
    "\n",
    "# Drop values equal to 0\n",
    "ldf = ldf[ldf['VALUE'] != 0]\n",
    "\n",
    "# Reorder columns\n",
    "# ldf = ldf[['EXP HEAD', 'DEPT', 'SCHOOL', 'CATEGORY', 'SCHOOL CODE', 'DESCRIPTION', 'YEAR', 'VALUE']]\n",
    "ldf = ldf[['EXP HEAD', 'DEPT', 'SCHOOL', 'SCHOOL CODE', 'DESCRIPTION', 'YEAR', 'VALUE']]"
   ]
  },
  {
   "cell_type": "code",
   "execution_count": null,
   "id": "547196ce",
   "metadata": {},
   "outputs": [],
   "source": [
    "ldf.head()"
   ]
  },
  {
   "cell_type": "code",
   "execution_count": null,
   "id": "c5ecd353",
   "metadata": {},
   "outputs": [],
   "source": [
    "ldf.to_csv('./csvs/budget_latest.csv', index=False)"
   ]
  },
  {
   "cell_type": "markdown",
   "id": "f7a74e24",
   "metadata": {},
   "source": [
    "## Join budget data together"
   ]
  },
  {
   "cell_type": "code",
   "execution_count": null,
   "id": "f414322d",
   "metadata": {},
   "outputs": [],
   "source": [
    "# # Concat main source data with Mallaig data\n",
    "# tdf = pd.concat([ldf, ldfm])"
   ]
  },
  {
   "cell_type": "code",
   "execution_count": null,
   "id": "b2f0c27a",
   "metadata": {},
   "outputs": [],
   "source": [
    "# tdf.head()"
   ]
  },
  {
   "cell_type": "code",
   "execution_count": null,
   "id": "1e665c69",
   "metadata": {},
   "outputs": [],
   "source": [
    "# tdf.dtypes"
   ]
  },
  {
   "cell_type": "code",
   "execution_count": null,
   "id": "1ea9d5e2",
   "metadata": {},
   "outputs": [],
   "source": []
  }
 ],
 "metadata": {
  "kernelspec": {
   "display_name": "Python 3 (ipykernel)",
   "language": "python",
   "name": "python3"
  },
  "language_info": {
   "codemirror_mode": {
    "name": "ipython",
    "version": 3
   },
   "file_extension": ".py",
   "mimetype": "text/x-python",
   "name": "python",
   "nbconvert_exporter": "python",
   "pygments_lexer": "ipython3",
   "version": "3.12.3"
  }
 },
 "nbformat": 4,
 "nbformat_minor": 5
}
