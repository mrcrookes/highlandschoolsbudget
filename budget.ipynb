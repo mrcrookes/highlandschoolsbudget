{
 "cells": [
  {
   "cell_type": "code",
   "execution_count": null,
   "id": "d39da04f",
   "metadata": {},
   "outputs": [],
   "source": [
    "import pandas as pd\n",
    "import numpy as np"
   ]
  },
  {
   "cell_type": "code",
   "execution_count": null,
   "id": "6542cb9b",
   "metadata": {},
   "outputs": [],
   "source": [
    "# Create function to read in excel file\n",
    "def readfile(sheet):\n",
    "    \n",
    "        df = pd.read_excel('./data/FS560267659 budget and spend data.xlsx', \n",
    "                                sheet_name=sheet)\n",
    "        return tidy(df)\n",
    "\n",
    "def tidy(df):\n",
    "    \n",
    "    #### Fix usual issues with all strings\n",
    "    \n",
    "    # Capitalise headers\n",
    "    df.columns = df.columns.astype(str).str.upper()\n",
    "    \n",
    "    # Capitalise columns\n",
    "    df = df.map(lambda x: x.upper() if type(x) is str else x)\n",
    "\n",
    "    # Strip whitespace\n",
    "    df = df.map(lambda x: x.strip() if type(x) is str else x)\n",
    "\n",
    "    # Remove parenthesis\n",
    "    df = df.map(lambda x: x.replace('(', '') if type(x) is str else x)\n",
    "    df = df.map(lambda x: x.replace(')', '') if type(x) is str else x)\n",
    "    \n",
    "    # Remove dashes\n",
    "    df = df.map(lambda x: x.replace('-', '') if type(x) is str else x)\n",
    "    \n",
    "    # Remove full stops\n",
    "    df = df.map(lambda x: x.replace('.', '') if type(x) is str else x)\n",
    "    \n",
    "    # Remove commas\n",
    "    df = df.map(lambda x: x.replace(',', '') if type(x) is str else x)\n",
    "    \n",
    "    # Remove linebreaks\n",
    "    df = df.map(lambda x: x.replace('\\n', '') if type(x) is str else x)\n",
    "\n",
    "    # Replace annoying substrings\n",
    "    df = df.map(lambda x: x.replace(' AND ', ' & ') if type(x) is str else x)\n",
    "    df = df.map(lambda x: x.replace(' – ', ' - ') if type(x) is str else x)\n",
    "    df = df.map(lambda x: x.replace(' / ', '/') if type(x) is str else x)\n",
    "    df = df.map(lambda x: x.replace('/ ', '/') if type(x) is str else x)\n",
    "    df = df.map(lambda x: x.replace(' /', '/') if type(x) is str else x)\n",
    "    \n",
    "    # Strip whitespace again\n",
    "    df = df.map(lambda x: x.strip() if type(x) is str else x)\n",
    "    \n",
    "    # Drop rows with minimum number of 2 non-null values\n",
    "    df = df.dropna(thresh=2)\n",
    "    \n",
    "    return df"
   ]
  },
  {
   "cell_type": "code",
   "execution_count": null,
   "id": "5ff0b8c0",
   "metadata": {},
   "outputs": [],
   "source": [
    "# Create list for dataframes\n",
    "frames = []\n",
    "\n",
    "## Read in files\n",
    "\n",
    "dfh = readfile('10416')\n",
    "dfh['SCH'] = 'MHS'\n",
    "frames.append(dfh)\n",
    "\n",
    "dfp = readfile('10094')\n",
    "dfp['SCH'] = 'MPS'\n",
    "frames.append(dfp)\n",
    "\n",
    "dfl = readfile('10091')\n",
    "dfl['SCH'] = 'LPS'\n",
    "frames.append(dfl)\n",
    "\n",
    "dfa = readfile('10072')\n",
    "dfa['SCH'] = 'APS'\n",
    "frames.append(dfa)\n",
    "\n",
    "dfi = readfile('10086')\n",
    "dfa['SCH'] = 'IPS'\n",
    "frames.append(dfi)"
   ]
  },
  {
   "cell_type": "code",
   "execution_count": null,
   "id": "d1e62a75",
   "metadata": {},
   "outputs": [],
   "source": [
    "# Concat all together long format dfs into final df\n",
    "fdf = pd.concat(frames)\n",
    "\n",
    "# Rename Desciption column\n",
    "fdf = fdf.rename(columns={'DESCR': 'DESCRIPTION'})"
   ]
  },
  {
   "cell_type": "code",
   "execution_count": null,
   "id": "76da2739",
   "metadata": {},
   "outputs": [],
   "source": [
    "# Update a few names\n",
    "fdf = fdf.map(lambda x: x.replace('TEACHERS SUPPLY', 'SUPPLY') if type(x) is str else x)\n",
    "fdf = fdf.map(lambda x: x.replace('TEACHER SUPPLY', 'SUPPLY') if type(x) is str else x)\n",
    "\n",
    "# Remove School name from desciption column\n",
    "ls = ['MALLAIG HIGH SCHOOL', 'MALLAIG SECONDARY SCHOOL', 'MALLAIG SECONDARY',\n",
    "        'MALLAIG SEC SCHOOL', 'MALLAIG SEC', ' PS ', \n",
    "        'MALLAIG', 'LADY LOVAT', 'ARISAIG', 'INVERIE']\n",
    "\n",
    "for l in ls:\n",
    "    fdf['DESCRIPTION'] = fdf['DESCRIPTION'].str.replace(l, '')\n",
    "\n",
    "# Join together some awkward categories\n",
    "fdf['DESCRIPTION'] = fdf['DESCRIPTION'].str.replace('LRN SUP', 'LRNSUP')\n",
    "fdf['DESCRIPTION'] = fdf['DESCRIPTION'].str.replace('MOD LANG', 'MODLANG')\n",
    "fdf['DESCRIPTION'] = fdf['DESCRIPTION'].str.replace('MOD STD', 'MODSTD')\n",
    "fdf['DESCRIPTION'] = fdf['DESCRIPTION'].str.replace('MUSIC & DRAMA', 'MUSIC&DRAMA')\n",
    "fdf['DESCRIPTION'] = fdf['DESCRIPTION'].str.replace('FIRST AID', 'FIRSTAID')\n",
    "fdf['DESCRIPTION'] = fdf['DESCRIPTION'].str.replace('FOOD FOR THOUGHT', 'FOODFORTHOUGHT')\n",
    "fdf['DESCRIPTION'] = fdf['DESCRIPTION'].str.replace('ADD FUNDS', 'ADDFUNDS')\n",
    "\n",
    "# Drop rows with non-null values\n",
    "fdf = fdf.dropna()\n",
    "\n",
    "# Strip whitespace\n",
    "fdf = fdf.map(lambda x: x.strip() if type(x) is str else x)\n",
    "\n",
    "# Set Category column to first name of DESCRIPTIONiption column\n",
    "fdf['CATEGORY'] = fdf['DESCRIPTION'].str.split(n=1).str[0]\n",
    "\n",
    "# Remove first word from DESCRIPTIONiption column\n",
    "fdf['DESCRIPTION'] = fdf['DESCRIPTION'].str.split(n=1).str[1]"
   ]
  },
  {
   "cell_type": "code",
   "execution_count": null,
   "id": "dfab550c",
   "metadata": {},
   "outputs": [],
   "source": [
    "fdf.head()"
   ]
  },
  {
   "cell_type": "code",
   "execution_count": null,
   "id": "1993036c",
   "metadata": {},
   "outputs": [],
   "source": [
    "# Create list of values\n",
    "val = ['2324 BUDGET', '2324 ACTUALS', '2223 BUDGET',\n",
    "       '2223 ACTUALS', '2122 BUDGET', '2122 ACTUALS', '2021 BUDGET',\n",
    "       '2021 ACTUALS', '1920 BUDGET', '1920 ACTUALS', '1819 BUDGET',\n",
    "       '1819 ACTUALS', '1718 BUDGET', '1718 ACTUALS', '1617 BUDGET',\n",
    "       '1617 ACTUALS', '1516 BUDGET', '1516 ACTUALS']\n",
    "\n",
    "# Convert into long format\n",
    "ldf = pd.melt(fdf, id_vars=['EXP HEAD', 'DESCRIPTION', 'SCH', 'CATEGORY'], value_vars=val,\n",
    "             var_name='VARIABLE', value_name='VALUE')\n",
    "\n",
    "# Split variable column into year and type\n",
    "ldf[['YEAR', 'TYPE']] = ldf['VARIABLE'].str.split(' ', n=1, expand=True)\n",
    "\n",
    "# Drop old variable column\n",
    "ldf = ldf.drop('VARIABLE', axis=1)\n",
    "\n",
    "# Drop values equal to 0\n",
    "ldf = ldf[ldf['VALUE'] != 0]\n",
    "\n",
    "# Reorder columns\n",
    "ldf = ldf[['EXP HEAD', 'SCH', 'CATEGORY', 'DESCRIPTION', 'YEAR', 'TYPE', 'VALUE']]"
   ]
  },
  {
   "cell_type": "code",
   "execution_count": null,
   "id": "547196ce",
   "metadata": {},
   "outputs": [],
   "source": [
    "ldf.head()"
   ]
  },
  {
   "cell_type": "code",
   "execution_count": null,
   "id": "42f54aa0",
   "metadata": {},
   "outputs": [],
   "source": [
    "# Export to csv\n",
    "ldf.to_csv('./csvs/budget.csv', index=False)"
   ]
  },
  {
   "cell_type": "code",
   "execution_count": null,
   "id": "acf66c66",
   "metadata": {},
   "outputs": [],
   "source": []
  }
 ],
 "metadata": {
  "kernelspec": {
   "display_name": "Python 3 (ipykernel)",
   "language": "python",
   "name": "python3"
  },
  "language_info": {
   "codemirror_mode": {
    "name": "ipython",
    "version": 3
   },
   "file_extension": ".py",
   "mimetype": "text/x-python",
   "name": "python",
   "nbconvert_exporter": "python",
   "pygments_lexer": "ipython3",
   "version": "3.12.3"
  }
 },
 "nbformat": 4,
 "nbformat_minor": 5
}
